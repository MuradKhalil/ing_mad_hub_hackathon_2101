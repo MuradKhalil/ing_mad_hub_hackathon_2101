{
 "cells": [
  {
   "cell_type": "markdown",
   "metadata": {},
   "source": [
    "# ING Hubs Hackaton\n",
    "\n",
    "29.01.2021\n",
    "\n",
    "Jaime Elguero, Santiago Gil, Borja Serra"
   ]
  },
  {
   "cell_type": "markdown",
   "metadata": {},
   "source": [
    "# Open AIGym\n",
    "\n",
    "[Gym](https://gym.openai.com/) is a toolkit for developing and comparing reinforcement learning algorithms. It makes no assumptions about the structure of your agent, and is compatible with any numerical computation library, such as TensorFlow or Theano.\n",
    "\n",
    "The gym library is a collection of test problems — environments — that you can use to work out your reinforcement learning algorithms. These environments have a shared interface, allowing you to write general algorithms.\n",
    "\n",
    "[Environments](https://gym.openai.com/envs/#classic_control) "
   ]
  },
  {
   "cell_type": "code",
   "execution_count": 1,
   "metadata": {},
   "outputs": [],
   "source": [
    "import gym\n",
    "\n",
    "import pandas as pd\n",
    "import numpy as np\n",
    "import matplotlib.pyplot as plt"
   ]
  },
  {
   "cell_type": "markdown",
   "metadata": {},
   "source": [
    "There is a lot of nice environments to work with:"
   ]
  },
  {
   "cell_type": "markdown",
   "metadata": {},
   "source": [
    "### Mountain Car environment"
   ]
  },
  {
   "cell_type": "markdown",
   "metadata": {},
   "source": [
    "For this Hackaton, we will Focus on the **MountainCar** one. Still if your team finished before time, feel free to explore any other environment you may like"
   ]
  },
  {
   "cell_type": "code",
   "execution_count": 3,
   "metadata": {},
   "outputs": [],
   "source": [
    "# Import and initialize Mountain Car Environment\n",
    "env = gym.make('MountainCar-v0')\n",
    "#env.reset()\n",
    "#env.seed(1); np.random.seed(1)"
   ]
  },
  {
   "cell_type": "markdown",
   "metadata": {},
   "source": [
    "**Mountain Car** is a classic reinforcement learning problem where the objective is to create an algorithm that learns to climb a steep hill to reach the goal marked by a flag. The car’s engine is not powerful enough to drive up the hill without a head start so the car must drive up the left hill to obtain enough momentum to scale the steeper hill to the right and reach the goal."
   ]
  },
  {
   "cell_type": "code",
   "execution_count": 4,
   "metadata": {},
   "outputs": [
    {
     "data": {
      "text/html": [
       "<video src=\"mountain_car.mp4\" controls  >\n",
       "      Your browser does not support the <code>video</code> element.\n",
       "    </video>"
      ],
      "text/plain": [
       "<IPython.core.display.Video object>"
      ]
     },
     "execution_count": 4,
     "metadata": {},
     "output_type": "execute_result"
    }
   ],
   "source": [
    "from IPython.display import Video\n",
    "\n",
    "Video(\"mountain_car.mp4\")"
   ]
  },
  {
   "cell_type": "markdown",
   "metadata": {},
   "source": [
    "Here we have more detailed information about it, especially focused to inputing a RL algorithm (actions, reward, etc.)"
   ]
  },
  {
   "cell_type": "code",
   "execution_count": 5,
   "metadata": {},
   "outputs": [
    {
     "name": "stdout",
     "output_type": "stream",
     "text": [
      "\n",
      "    Description:\n",
      "        The agent (a car) is started at the bottom of a valley. For any given\n",
      "        state the agent may choose to accelerate to the left, right or cease\n",
      "        any acceleration.\n",
      "\n",
      "    Source:\n",
      "        The environment appeared first in Andrew Moore's PhD Thesis (1990).\n",
      "\n",
      "    Observation:\n",
      "        Type: Box(2)\n",
      "        Num    Observation               Min            Max\n",
      "        0      Car Position              -1.2           0.6\n",
      "        1      Car Velocity              -0.07          0.07\n",
      "\n",
      "    Actions:\n",
      "        Type: Discrete(3)\n",
      "        Num    Action\n",
      "        0      Accelerate to the Left\n",
      "        1      Don't accelerate\n",
      "        2      Accelerate to the Right\n",
      "\n",
      "        Note: This does not affect the amount of velocity affected by the\n",
      "        gravitational pull acting on the car.\n",
      "\n",
      "    Reward:\n",
      "         Reward of 0 is awarded if the agent reached the flag (position = 0.5)\n",
      "         on top of the mountain.\n",
      "         Reward of -1 is awarded if the position of the agent is less than 0.5.\n",
      "\n",
      "    Starting State:\n",
      "         The position of the car is assigned a uniform random value in\n",
      "         [-0.6 , -0.4].\n",
      "         The starting velocity of the car is always assigned to 0.\n",
      "\n",
      "    Episode Termination:\n",
      "         The car position is more than 0.5\n",
      "         Episode length is greater than 200\n",
      "    \n"
     ]
    }
   ],
   "source": [
    "print(gym.envs.classic_control.mountain_car.MountainCarEnv.__doc__)"
   ]
  },
  {
   "cell_type": "markdown",
   "metadata": {},
   "source": [
    "### A random agent to interact with the environment"
   ]
  },
  {
   "cell_type": "markdown",
   "metadata": {},
   "source": [
    "- The state of the environment is the tuple **(position, velocity)**. As an starting point we will start with a null velocity and somewhere around the center of the valley (what is randomly aprox. -0.5)"
   ]
  },
  {
   "cell_type": "code",
   "execution_count": 6,
   "metadata": {},
   "outputs": [
    {
     "name": "stdout",
     "output_type": "stream",
     "text": [
      "[-0.40667047  0.        ]\n"
     ]
    }
   ],
   "source": [
    "state = env.reset()\n",
    "print (state)"
   ]
  },
  {
   "cell_type": "markdown",
   "metadata": {},
   "source": [
    "- The boundaries of our observation space are the follows:"
   ]
  },
  {
   "cell_type": "code",
   "execution_count": 7,
   "metadata": {},
   "outputs": [
    {
     "data": {
      "text/plain": [
       "array([0.6 , 0.07], dtype=float32)"
      ]
     },
     "execution_count": 7,
     "metadata": {},
     "output_type": "execute_result"
    }
   ],
   "source": [
    "env.observation_space.high"
   ]
  },
  {
   "cell_type": "code",
   "execution_count": 8,
   "metadata": {},
   "outputs": [
    {
     "data": {
      "text/plain": [
       "array([-1.2 , -0.07], dtype=float32)"
      ]
     },
     "execution_count": 8,
     "metadata": {},
     "output_type": "execute_result"
    }
   ],
   "source": [
    "env.observation_space.low"
   ]
  },
  {
   "cell_type": "markdown",
   "metadata": {},
   "source": [
    "- And we also have the information of the possible actions we can perform, in this environment only 3 (see doc above):"
   ]
  },
  {
   "cell_type": "code",
   "execution_count": 9,
   "metadata": {},
   "outputs": [
    {
     "data": {
      "text/plain": [
       "Discrete(3)"
      ]
     },
     "execution_count": 9,
     "metadata": {},
     "output_type": "execute_result"
    }
   ],
   "source": [
    "env.action_space"
   ]
  },
  {
   "cell_type": "markdown",
   "metadata": {},
   "source": [
    "- With all this, we have the enough information to navigate through the environment:"
   ]
  },
  {
   "cell_type": "code",
   "execution_count": 10,
   "metadata": {},
   "outputs": [],
   "source": [
    "env.reset();\n",
    "\n",
    "for i in range(200):\n",
    "    # We can visually render the current observation\n",
    "    env.render()\n",
    "    # We select a random action\n",
    "    action = np.random.randint(0, env.action_space.n)\n",
    "    # We apply the action, and receive information from the environment\n",
    "    state, reward, done, info = env.step(action)\n",
    "    \n",
    "# We close the environment\n",
    "env.close()"
   ]
  },
  {
   "cell_type": "markdown",
   "metadata": {},
   "source": [
    "- A typical RL algorithm will make use of episodes as follows:"
   ]
  },
  {
   "cell_type": "code",
   "execution_count": 11,
   "metadata": {},
   "outputs": [],
   "source": [
    "EPISODES = 10000"
   ]
  },
  {
   "cell_type": "code",
   "execution_count": 12,
   "metadata": {
    "scrolled": true
   },
   "outputs": [
    {
     "name": "stdout",
     "output_type": "stream",
     "text": [
      "Episode 100 Average Reward: -200.0\n",
      "Episode 200 Average Reward: -200.0\n",
      "Episode 300 Average Reward: -200.0\n",
      "Episode 400 Average Reward: -200.0\n",
      "Episode 500 Average Reward: -200.0\n",
      "Episode 600 Average Reward: -200.0\n",
      "Episode 700 Average Reward: -200.0\n",
      "Episode 800 Average Reward: -200.0\n",
      "Episode 900 Average Reward: -200.0\n",
      "Episode 1000 Average Reward: -200.0\n",
      "Episode 1100 Average Reward: -200.0\n",
      "Episode 1200 Average Reward: -200.0\n",
      "Episode 1300 Average Reward: -200.0\n",
      "Episode 1400 Average Reward: -200.0\n",
      "Episode 1500 Average Reward: -200.0\n",
      "Episode 1600 Average Reward: -200.0\n",
      "Episode 1700 Average Reward: -200.0\n",
      "Episode 1800 Average Reward: -200.0\n",
      "Episode 1900 Average Reward: -200.0\n",
      "Episode 2000 Average Reward: -200.0\n",
      "Episode 2100 Average Reward: -200.0\n",
      "Episode 2200 Average Reward: -200.0\n",
      "Episode 2300 Average Reward: -200.0\n",
      "Episode 2400 Average Reward: -200.0\n",
      "Episode 2500 Average Reward: -200.0\n",
      "Episode 2600 Average Reward: -200.0\n",
      "Episode 2700 Average Reward: -200.0\n",
      "Episode 2800 Average Reward: -200.0\n",
      "Episode 2900 Average Reward: -200.0\n",
      "Episode 3000 Average Reward: -200.0\n",
      "Episode 3100 Average Reward: -200.0\n",
      "Episode 3200 Average Reward: -200.0\n",
      "Episode 3300 Average Reward: -200.0\n",
      "Episode 3400 Average Reward: -200.0\n",
      "Episode 3500 Average Reward: -200.0\n",
      "Episode 3600 Average Reward: -200.0\n",
      "Episode 3700 Average Reward: -200.0\n",
      "Episode 3800 Average Reward: -200.0\n",
      "Episode 3900 Average Reward: -200.0\n",
      "Episode 4000 Average Reward: -200.0\n",
      "Episode 4100 Average Reward: -200.0\n",
      "Episode 4200 Average Reward: -200.0\n",
      "Episode 4300 Average Reward: -200.0\n",
      "Episode 4400 Average Reward: -200.0\n",
      "Episode 4500 Average Reward: -200.0\n",
      "Episode 4600 Average Reward: -200.0\n",
      "Episode 4700 Average Reward: -200.0\n",
      "Episode 4800 Average Reward: -200.0\n",
      "Episode 4900 Average Reward: -200.0\n",
      "Episode 5000 Average Reward: -200.0\n",
      "Episode 5100 Average Reward: -200.0\n",
      "Episode 5200 Average Reward: -200.0\n",
      "Episode 5300 Average Reward: -200.0\n",
      "Episode 5400 Average Reward: -200.0\n",
      "Episode 5500 Average Reward: -200.0\n",
      "Episode 5600 Average Reward: -200.0\n",
      "Episode 5700 Average Reward: -200.0\n",
      "Episode 5800 Average Reward: -200.0\n",
      "Episode 5900 Average Reward: -200.0\n",
      "Episode 6000 Average Reward: -200.0\n",
      "Episode 6100 Average Reward: -200.0\n",
      "Episode 6200 Average Reward: -200.0\n",
      "Episode 6300 Average Reward: -200.0\n",
      "Episode 6400 Average Reward: -200.0\n",
      "Episode 6500 Average Reward: -200.0\n",
      "Episode 6600 Average Reward: -200.0\n",
      "Episode 6700 Average Reward: -200.0\n",
      "Episode 6800 Average Reward: -200.0\n",
      "Episode 6900 Average Reward: -200.0\n",
      "Episode 7000 Average Reward: -200.0\n",
      "Episode 7100 Average Reward: -200.0\n",
      "Episode 7200 Average Reward: -200.0\n",
      "Episode 7300 Average Reward: -200.0\n",
      "Episode 7400 Average Reward: -200.0\n",
      "Episode 7500 Average Reward: -200.0\n",
      "Episode 7600 Average Reward: -200.0\n",
      "Episode 7700 Average Reward: -200.0\n",
      "Episode 7800 Average Reward: -200.0\n",
      "Episode 7900 Average Reward: -200.0\n",
      "Episode 8000 Average Reward: -200.0\n",
      "Episode 8100 Average Reward: -200.0\n",
      "Episode 8200 Average Reward: -200.0\n",
      "Episode 8300 Average Reward: -200.0\n",
      "Episode 8400 Average Reward: -200.0\n",
      "Episode 8500 Average Reward: -200.0\n",
      "Episode 8600 Average Reward: -200.0\n",
      "Episode 8700 Average Reward: -200.0\n",
      "Episode 8800 Average Reward: -200.0\n",
      "Episode 8900 Average Reward: -200.0\n",
      "Episode 9000 Average Reward: -200.0\n",
      "Episode 9100 Average Reward: -200.0\n",
      "Episode 9200 Average Reward: -200.0\n",
      "Episode 9300 Average Reward: -200.0\n",
      "Episode 9400 Average Reward: -200.0\n",
      "Episode 9500 Average Reward: -200.0\n",
      "Episode 9600 Average Reward: -200.0\n",
      "Episode 9700 Average Reward: -200.0\n",
      "Episode 9800 Average Reward: -200.0\n",
      "Episode 9900 Average Reward: -200.0\n",
      "Episode 10000 Average Reward: -200.0\n"
     ]
    }
   ],
   "source": [
    "# Initialize variables to track rewards\n",
    "reward_list = [] # Temporal one\n",
    "ave_reward_list = []\n",
    "successful = []\n",
    "last_position_episodes = []\n",
    "\n",
    "# Run RL algorithm\n",
    "for i in range(EPISODES):\n",
    "    \n",
    "    # Initialize parameters\n",
    "    done = False\n",
    "    tot_reward, reward = 0,0\n",
    "    state = env.reset()\n",
    "    \n",
    "    # Done will be True when:\n",
    "    #  1. 200 iterations have happened OR\n",
    "    #  2. The car reached the flag\n",
    "    \n",
    "    while done != True:\n",
    "        \n",
    "        # We select a random action\n",
    "        action = np.random.randint(0, env.action_space.n)\n",
    "        # We apply the action, and receive information from the environment\n",
    "        state, reward, done, info = env.step(action)\n",
    "        \n",
    "        tot_reward += reward\n",
    "    \n",
    "    # We track the last position on the episode\n",
    "    last_position_episodes.append(state[0])\n",
    "    \n",
    "    # The done condition was triggered because the car reached the flag\n",
    "    if state[0] >= 0.5:\n",
    "        successful.append(i)\n",
    "        \n",
    "    # Track rewards\n",
    "    reward_list.append(tot_reward)\n",
    "    \n",
    "    # Show average rewards per 100 episodes\n",
    "    if (i+1) % 100 == 0:\n",
    "        ave_reward = np.mean(reward_list)\n",
    "        ave_reward_list.append(ave_reward)\n",
    "        reward_list = []\n",
    "        print('Episode {} Average Reward: {}'.format(i+1, ave_reward))\n",
    "        \n",
    "env.close()"
   ]
  },
  {
   "cell_type": "markdown",
   "metadata": {},
   "source": [
    "- We offer you some plot functions to monitor how the RL algorithm is learning"
   ]
  },
  {
   "cell_type": "markdown",
   "metadata": {},
   "source": [
    "In this case, since it is a random agent, we can see that we are not learning anything at all"
   ]
  },
  {
   "cell_type": "code",
   "execution_count": 13,
   "metadata": {},
   "outputs": [],
   "source": [
    "def plot_last_positions(positions):\n",
    "    plt.figure(2, figsize=[10,5])\n",
    "    p = pd.Series(positions)\n",
    "    ma = p.rolling(10).mean()\n",
    "    plt.plot(p, alpha=0.8)\n",
    "    plt.plot(ma)\n",
    "    plt.xlabel('Episode')\n",
    "    plt.ylabel('Position')\n",
    "    plt.title('Car Final Position')\n",
    "    plt.show()"
   ]
  },
  {
   "cell_type": "code",
   "execution_count": 14,
   "metadata": {},
   "outputs": [
    {
     "data": {
      "image/png": "[encoded data removed]",
      "text/plain": [
       "<Figure size 720x360 with 1 Axes>"
      ]
     },
     "metadata": {
      "needs_background": "light"
     },
     "output_type": "display_data"
    }
   ],
   "source": [
    "plot_last_positions(last_position_episodes)"
   ]
  },
  {
   "cell_type": "code",
   "execution_count": 15,
   "metadata": {},
   "outputs": [],
   "source": [
    "def plot_rewards(ave_reward_list):\n",
    "    plt.subplots(figsize=(10,5))\n",
    "    plt.plot(100*(np.arange(len(ave_reward_list)) + 1), ave_reward_list)\n",
    "    plt.xlabel('Episodes')\n",
    "    plt.ylabel('Average Reward')\n",
    "    plt.title('Average Reward vs Episodes');"
   ]
  },
  {
   "cell_type": "code",
   "execution_count": 16,
   "metadata": {},
   "outputs": [
    {
     "data": {
      "image/png": "[encoded data removed]",
      "text/plain": [
       "<Figure size 720x360 with 1 Axes>"
      ]
     },
     "metadata": {
      "needs_background": "light"
     },
     "output_type": "display_data"
    }
   ],
   "source": [
    "plot_rewards(ave_reward_list)"
   ]
  },
  {
   "cell_type": "code",
   "execution_count": 17,
   "metadata": {},
   "outputs": [],
   "source": [
    "def plot_successes(successful):\n",
    "    fig, ax = plt.subplots(figsize=(10,5))\n",
    "    ax.hist(successful, bins = int(EPISODES/500));\n",
    "    ax.set_xlabel('Episodes');\n",
    "    ax.set_ylabel('#Successful');\n",
    "    print('successful episodes: {}'.format(np.count_nonzero(successful)))"
   ]
  },
  {
   "cell_type": "code",
   "execution_count": 18,
   "metadata": {},
   "outputs": [
    {
     "name": "stdout",
     "output_type": "stream",
     "text": [
      "successful episodes: 0\n"
     ]
    },
    {
     "data": {
      "image/png": "[encoded data removed]",
      "text/plain": [
       "<Figure size 720x360 with 1 Axes>"
      ]
     },
     "metadata": {
      "needs_background": "light"
     },
     "output_type": "display_data"
    }
   ],
   "source": [
    "plot_successes(successful)"
   ]
  },
  {
   "cell_type": "markdown",
   "metadata": {},
   "source": [
    "# Can you make it better?"
   ]
  },
  {
   "cell_type": "markdown",
   "metadata": {},
   "source": [
    "- The collection of some produced variables are sent to us, and we will give you a SCORE"
   ]
  },
  {
   "cell_type": "code",
   "execution_count": 11,
   "metadata": {},
   "outputs": [
    {
     "name": "stdout",
     "output_type": "stream",
     "text": [
      "\"Score posted!\"\n",
      "\n"
     ]
    }
   ],
   "source": [
    "reload(hack_tools)\n",
    "\n",
    "team \"YOUR TEAM NAME\"\n",
    "\n",
    "hack_tools.post_score(team, [ave_reward_list, successful, last_position_episodes])"
   ]
  },
  {
   "cell_type": "markdown",
   "metadata": {},
   "source": [
    "[Leaderboard](https://hackathon-ing-mad-hub-2101.herokuapp.com/)\n"
   ]
  }
 ],
 "metadata": {
  "kernelspec": {
   "display_name": "Python 3",
   "language": "python",
   "name": "python3"
  },
  "language_info": {
   "codemirror_mode": {
    "name": "ipython",
    "version": 3
   },
   "file_extension": ".py",
   "mimetype": "text/x-python",
   "name": "python",
   "nbconvert_exporter": "python",
   "pygments_lexer": "ipython3",
   "version": "3.7.6"
  }
 },
 "nbformat": 4,
 "nbformat_minor": 2
}
